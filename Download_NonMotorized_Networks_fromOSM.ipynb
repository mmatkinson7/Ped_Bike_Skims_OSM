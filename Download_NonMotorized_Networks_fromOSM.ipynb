{
 "cells": [
  {
   "cell_type": "markdown",
   "id": "9a5e39ff",
   "metadata": {},
   "source": [
    "# Creating Bike and Pedestrian Road Links\n",
    "\n",
    "For environment see: https://github.com/gboeing/osmnx \n",
    "\n",
    "    conda config --prepend channels conda-forge\n",
    "    \n",
    "    conda create -n ox --strict-channel-priority osmnx\n",
    "    \n",
    "* also include nb_conda, nb_conda_kernels, and ipykernel"
   ]
  },
  {
   "cell_type": "code",
   "execution_count": 1,
   "id": "1bfa1f91",
   "metadata": {},
   "outputs": [],
   "source": [
    "import geopandas as gpd\n",
    "import osmnx\n",
    "import pandas as pd\n",
    "import networkx as nx"
   ]
  },
  {
   "cell_type": "code",
   "execution_count": null,
   "id": "cdd0f096",
   "metadata": {},
   "outputs": [],
   "source": [
    "#import TAZs\n",
    "tazs = gpd.read_file('C:/Users/phoebe/Bike_Ped_Skims_OSM/candidate_CTPS_TAZ_STATEWIDE_2019.geojson')\n",
    "#set the projected crs\n",
    "tazs = tazs.to_crs('EPSG:26986')\n",
    "#boundaries for TAZ\n",
    "states = tazs.dissolve(by='state')\n",
    "\n",
    "#update the attributes retrieved from OSM in settings.py\n",
    "useful_tags_path = ['bridge', 'tunnel', 'oneway', 'lanes', 'ref', 'name',\n",
    "                    'highway', 'maxspeed', 'service', 'access', 'area',\n",
    "                    'landuse', 'width', 'est_width', 'junction', \n",
    "                    'surface', 'smoothness','cycleway', 'footway', 'sidewalk']\n",
    "osmnx.utils.config(useful_tags_way = useful_tags_path)\n",
    "\n",
    "#grab from OSM the bike and pedestrian networks for the MPO\n",
    "#WARNING: Takes 48 hours to run (for both bike and ped together)\n",
    "bike_net = osmnx.graph_from_polygon(states.to_crs('EPSG:4326').unary_union, network_type='bike')\n",
    "ped_net = osmnx.graph_from_polygon(states.to_crs('EPSG:4326').unary_union, network_type='walk')\n",
    "\n",
    "#turn to gdf to see the attributes (tags) on the links\n",
    "bike_edges = osmnx.utils_graph.graph_to_gdfs(bike_net, nodes = False, edges = True,\n",
    "                                             node_geometry = False, fill_edge_geometry = False)\n",
    "#turn to gdf to see the attributes (tags) on the links\n",
    "ped_edges = osmnx.utils_graph.graph_to_gdfs(ped_net, nodes = False, edges = True,\n",
    "                                             node_geometry = False, fill_edge_geometry = False)\n",
    "\n",
    "#export to shp\n",
    "bike_edges.to_file(\"bike_edges.shp\")\n",
    "ped_edges.to_file(\"ped_edges.shp\")"
   ]
  }
 ],
 "metadata": {
  "kernelspec": {
   "display_name": "Python [conda env:ox] *",
   "language": "python",
   "name": "conda-env-ox-py"
  },
  "language_info": {
   "codemirror_mode": {
    "name": "ipython",
    "version": 3
   },
   "file_extension": ".py",
   "mimetype": "text/x-python",
   "name": "python",
   "nbconvert_exporter": "python",
   "pygments_lexer": "ipython3",
   "version": "3.9.7"
  }
 },
 "nbformat": 4,
 "nbformat_minor": 5
}
