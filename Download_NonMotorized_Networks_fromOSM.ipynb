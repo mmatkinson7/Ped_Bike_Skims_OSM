{
 "cells": [
  {
   "cell_type": "markdown",
   "id": "9a5e39ff",
   "metadata": {},
   "source": [
    "# Creating Bike and Pedestrian Road Links\n",
    "\n",
    "For environment see: https://github.com/gboeing/osmnx \n",
    "\n",
    "    conda config --prepend channels conda-forge\n",
    "    \n",
    "    conda create -n ox --strict-channel-priority osmnx\n",
    "    \n",
    "* also include nb_conda, nb_conda_kernels, and ipykernel"
   ]
  },
  {
   "cell_type": "code",
   "execution_count": 1,
   "id": "1bfa1f91",
   "metadata": {},
   "outputs": [],
   "source": [
    "import geopandas as gpd\n",
    "import osmnx\n",
    "import pandas as pd\n",
    "import networkx as nx"
   ]
  },
  {
   "cell_type": "code",
   "execution_count": null,
   "id": "2f1d1996",
   "metadata": {},
   "outputs": [],
   "source": [
    "#update the attributes retrieved from OSM in settings.py\n",
    "useful_tags_path = ['bridge', 'tunnel', 'oneway', 'lanes', 'ref', 'name',\n",
    "                    'highway', 'maxspeed', 'service', 'access', 'area',\n",
    "                    'landuse', 'width', 'est_width', 'junction', \n",
    "                    'surface', 'smoothness','cycleway', 'footway', 'sidewalk']\n",
    "osmnx.utils.config(useful_tags_way = useful_tags_path)\n",
    "\n",
    "utn = osmnx.settings.useful_tags_node\n",
    "oxna = osmnx.settings.osm_xml_node_attrs\n",
    "oxnt = osmnx.settings.osm_xml_node_tags\n",
    "utw = osmnx.settings.useful_tags_way\n",
    "oxwa = osmnx.settings.osm_xml_way_attrs\n",
    "oxwt = osmnx.settings.osm_xml_way_tags\n",
    "utn = list(set(utn + oxna + oxnt))\n",
    "utw = list(set(utw + oxwa + oxwt))\n",
    "osmnx.config(all_oneway=True, useful_tags_node=utn, useful_tags_way=utw)\n",
    "\n",
    "#grab from OSM the bike and pedestrian networks for the MPO\n",
    "#WARNING: Takes 48 hours to run (for both bike and ped together)\n",
    "places = ['New Shoreham, Rhode Island','Jamestown, Rhode Island', 'Prudence Island, Rhode Island', 'Rhode Island', \n",
    "          'Cape Cod, Massachusetts', 'Chappaquiddick Island, Massachusetts','Monomoy Island, Massachusetts',\n",
    "          'Long Island, Massachusetts', 'Spectacle Island, Massachusetts', 'Thompson Island, Massachusetts',\n",
    "          'Little Brewster Island, Massachusetts', 'Great Brewster Island, Massachusetts', \n",
    "          'Shag Rocks Island, Massachusetts', 'Calf Island, Massachusetts', 'Little Calf Island, Massachusetts',\n",
    "          'Middle Brewster Island, Massachusetts', 'Outer Brewster Island, Massachusetts',\n",
    "          'Moon Island, Massachusetts', 'Rainsford Island, Massachusetts', 'Gallops Island, Massachusetts',\n",
    "          'Georges Island, Massachusetts', 'Lovells Island, Massachusetts', 'Peddocks Island, Massachusetts',\n",
    "          'Nantucket, Massachusetts', \"Martha's Vineyard, Massachusetts\", 'Naushon Island, Massachusetts',\n",
    "          'Nashawena Island, Massachusetts', 'Gosnold, Massachusetts','Provincetown, Massachusetts',\n",
    "          'Massachusetts', 'Greenville, New Hampshire', 'Lyndeborough, New Hampshire', 'New Ipswich, New Hampshire',\n",
    "         'Epping, New Hampshire', 'Exeter, New Hampshire', 'Epping, New Hampshire', 'Greenland, New Hampshire',\n",
    "         'Hampstead, New Hampshire', 'Kingston, New Hampshire', 'New Castle, New Hampshire', 'Manchester, New Hampshire',\n",
    "         'Pelham, New Hampshire', 'Temple, New Hampshire','Amherst, New Hampshire', 'Bedford, New Hampshire',\n",
    "         'Brookline, New Hampshire', 'Goffstown, New Hampshire', 'Hollis, New Hampshire', 'Hudson, New Hampshire',\n",
    "         'Litchfield, New Hampshire', 'Mason, New Hampshire', 'Merrimack, New Hampshire', 'Milford, New Hampshire',\n",
    "         'Mont Vernon, New Hampshire', 'Nashua, New Hampshire', 'New Boston, New Hampshire', 'Sharon, New Hampshire',\n",
    "         'Wilton, New Hampshire', 'Newfields, New Hampshire', 'Newington, New Hampshire', 'Newton, New Hampshire',\n",
    "         'North Hampton, New Hampshire', 'Plaistow, New Hampshire', 'Portsmouth, New Hampshire', 'Rye, New Hampshire',\n",
    "         'Salem, New Hampshire','Sandown, New Hampshire', 'Stratham, New Hampshire', 'Brentwood, New Hampshire',\n",
    "         'Fremont, New Hampshire', 'Rindge, New Hampshire', 'Atkinson, New Hampshire', 'Auburn, New Hampshire',\n",
    "         'Candia, New Hampshire', 'Chester, New Hampshire', 'Danville, New Hampshire','Derry, New Hampshire',\n",
    "         'East Kingston, New Hampshire','Kensington, New Hampshire', 'Raymond, New Hampshire','Seabrook, New Hampshire',\n",
    "         'Windham, New Hampshire', 'Hampton Falls, New Hampshire', 'Londonderry, New Hampshire',\n",
    "         'South Hampton, New Hampshire', 'Hampton, New Hampshire', 'Hooksett, New Hampshire']\n",
    "\n",
    "count = 0\n",
    "for place in places:\n",
    "    try:\n",
    "        bike_net = osmnx.graph_from_place(place, network_type='bike')\n",
    "        ped_net = osmnx.graph_from_place(place, network_type='walk')\n",
    "        if count > 0:\n",
    "            full_bike_net = nx.compose(full_bike_net, bike_net)\n",
    "            full_ped_net = nx.compose(full_ped_net, ped_net)\n",
    "        else:\n",
    "            full_bike_net = bike_net\n",
    "            full_ped_net = ped_net\n",
    "        count+=1\n",
    "    except:\n",
    "        print(place)\n",
    "        \n"
   ]
  },
  {
   "cell_type": "code",
   "execution_count": null,
   "id": "61732a4a",
   "metadata": {},
   "outputs": [],
   "source": [
    "#osmnx.io.save_graph_shapefile(full_bike_net, 'C:/Users/phoebe/Bike_Ped_Skims_OSM/Bike2')\n",
    "osmnx.io.save_graph_shapefile(full_bike_net, 'M:/JupyterHome/JupyterNotebooks/Ped_Bike_Skims_OSM/Ped_Bike_Skims_OSM/Bike2/PartNH')"
   ]
  },
  {
   "cell_type": "code",
   "execution_count": null,
   "id": "e891d6ec",
   "metadata": {},
   "outputs": [],
   "source": [
    "#osmnx.io.save_graph_shapefile(full_ped_net, 'C:/Users/phoebe/Bike_Ped_Skims_OSM/Ped2')\n",
    "osmnx.io.save_graph_shapefile(full_ped_net, 'M:/JupyterHome/JupyterNotebooks/Ped_Bike_Skims_OSM/Ped_Bike_Skims_OSM/Ped2/PartNH')"
   ]
  },
  {
   "cell_type": "code",
   "execution_count": null,
   "id": "7e02d9ee",
   "metadata": {},
   "outputs": [],
   "source": []
  }
 ],
 "metadata": {
  "kernelspec": {
   "display_name": "Python [conda env:ox] *",
   "language": "python",
   "name": "conda-env-ox-py"
  },
  "language_info": {
   "codemirror_mode": {
    "name": "ipython",
    "version": 3
   },
   "file_extension": ".py",
   "mimetype": "text/x-python",
   "name": "python",
   "nbconvert_exporter": "python",
   "pygments_lexer": "ipython3",
   "version": "3.9.7"
  }
 },
 "nbformat": 4,
 "nbformat_minor": 5
}
