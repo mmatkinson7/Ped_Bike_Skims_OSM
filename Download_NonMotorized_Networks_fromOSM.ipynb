{
 "cells": [
  {
   "cell_type": "markdown",
   "id": "9a5e39ff",
   "metadata": {},
   "source": [
    "# Creating Bike and Pedestrian Road Links\n",
    "\n",
    "For environment see: https://github.com/gboeing/osmnx \n",
    "\n",
    "    conda config --prepend channels conda-forge\n",
    "    \n",
    "    conda create -n ox --strict-channel-priority osmnx\n",
    "    \n",
    "* also include nb_conda, nb_conda_kernels, and ipykernel"
   ]
  },
  {
   "cell_type": "code",
   "execution_count": 1,
   "id": "1bfa1f91",
   "metadata": {},
   "outputs": [],
   "source": [
    "import geopandas as gpd\n",
    "import osmnx\n",
    "import pandas as pd\n",
    "import networkx as nx"
   ]
  },
  {
   "cell_type": "code",
   "execution_count": 2,
   "id": "2f1d1996",
   "metadata": {},
   "outputs": [
    {
     "name": "stdout",
     "output_type": "stream",
     "text": [
      "Spectacle Island, Massachusetts\n",
      "Little Brewster Island, Massachusetts\n",
      "Great Brewster Island, Massachusetts\n",
      "Shag Rocks Island, Massachusetts\n",
      "Calf Island, Massachusetts\n",
      "Little Calf Island, Massachusetts\n",
      "Middle Brewster Island, Massachusetts\n",
      "Outer Brewster Island, Massachusetts\n",
      "Moon Island, Massachusetts\n",
      "Rainsford Island, Massachusetts\n",
      "Gallops Island, Massachusetts\n",
      "Lovells Island, Massachusetts\n"
     ]
    }
   ],
   "source": [
    "#update the attributes retrieved from OSM in settings.py\n",
    "useful_tags_path = ['bridge', 'tunnel', 'oneway', 'lanes', 'ref', 'name',\n",
    "                    'highway', 'maxspeed', 'service', 'access', 'area',\n",
    "                    'landuse', 'width', 'est_width', 'junction', \n",
    "                    'surface', 'smoothness','cycleway', 'footway', 'sidewalk']\n",
    "osmnx.utils.config(useful_tags_way = useful_tags_path)\n",
    "\n",
    "utn = osmnx.settings.useful_tags_node\n",
    "oxna = osmnx.settings.osm_xml_node_attrs\n",
    "oxnt = osmnx.settings.osm_xml_node_tags\n",
    "utw = osmnx.settings.useful_tags_way\n",
    "oxwa = osmnx.settings.osm_xml_way_attrs\n",
    "oxwt = osmnx.settings.osm_xml_way_tags\n",
    "utn = list(set(utn + oxna + oxnt))\n",
    "utw = list(set(utw + oxwa + oxwt))\n",
    "osmnx.config(all_oneway=True, useful_tags_node=utn, useful_tags_way=utw)\n",
    "\n",
    "#grab from OSM the bike and pedestrian networks for the MPO\n",
    "#WARNING: Takes 48 hours to run (for both bike and ped together)\n",
    "places = ['New Shoreham, Rhode Island','Jamestown, Rhode Island', 'Prudence Island, Rhode Island', 'Rhode Island', \n",
    "          'Cape Cod, Massachusetts', 'Chappaquiddick Island, Massachusetts','Monomoy Island, Massachusetts',\n",
    "          'Long Island, Massachusetts', 'Spectacle Island, Massachusetts', 'Thompson Island, Massachusetts',\n",
    "          'Little Brewster Island, Massachusetts', 'Great Brewster Island, Massachusetts', \n",
    "          'Shag Rocks Island, Massachusetts', 'Calf Island, Massachusetts', 'Little Calf Island, Massachusetts',\n",
    "          'Middle Brewster Island, Massachusetts', 'Outer Brewster Island, Massachusetts',\n",
    "          'Moon Island, Massachusetts', 'Rainsford Island, Massachusetts', 'Gallops Island, Massachusetts',\n",
    "          'Georges Island, Massachusetts', 'Lovells Island, Massachusetts', 'Peddocks Island, Massachusetts',\n",
    "          'Nantucket, Massachusetts', \"Martha's Vineyard, Massachusetts\", 'Naushon Island, Massachusetts',\n",
    "          'Nashawena Island, Massachusetts', 'Gosnold, Massachusetts','Provincetown, Massachusetts',\n",
    "          'Massachusetts', 'New Hampshire']\n",
    "count = 0\n",
    "for place in places:\n",
    "    try:\n",
    "        bike_net = osmnx.graph_from_place(place, network_type='bike')\n",
    "        ped_net = osmnx.graph_from_place(place, network_type='walk')\n",
    "        if count > 0:\n",
    "            full_bike_net = nx.compose(full_bike_net, bike_net)\n",
    "            full_ped_net = nx.compose(full_ped_net, ped_net)\n",
    "        else:\n",
    "            full_bike_net = bike_net\n",
    "            full_ped_net = ped_net\n",
    "        count+=1\n",
    "    except:\n",
    "        print(place)\n",
    "        \n"
   ]
  },
  {
   "cell_type": "code",
   "execution_count": 3,
   "id": "61732a4a",
   "metadata": {},
   "outputs": [
    {
     "name": "stderr",
     "output_type": "stream",
     "text": [
      "C:\\Users\\phoebe\\anaconda3\\envs\\ox\\lib\\site-packages\\osmnx\\io.py:108: UserWarning: Column names longer than 10 characters will be truncated when saved to ESRI Shapefile.\n",
      "  gdf_nodes.to_file(filepath_nodes, driver=\"ESRI Shapefile\", index=True, encoding=encoding)\n"
     ]
    }
   ],
   "source": [
    "osmnx.io.save_graph_shapefile(full_bike_net, 'C:/Users/phoebe/Bike_Ped_Skims_OSM/Bike2')"
   ]
  },
  {
   "cell_type": "code",
   "execution_count": 4,
   "id": "e891d6ec",
   "metadata": {},
   "outputs": [
    {
     "name": "stderr",
     "output_type": "stream",
     "text": [
      "C:\\Users\\phoebe\\anaconda3\\envs\\ox\\lib\\site-packages\\osmnx\\io.py:108: UserWarning: Column names longer than 10 characters will be truncated when saved to ESRI Shapefile.\n",
      "  gdf_nodes.to_file(filepath_nodes, driver=\"ESRI Shapefile\", index=True, encoding=encoding)\n"
     ]
    }
   ],
   "source": [
    "osmnx.io.save_graph_shapefile(full_ped_net, 'C:/Users/phoebe/Bike_Ped_Skims_OSM/Ped2')"
   ]
  },
  {
   "cell_type": "code",
   "execution_count": null,
   "id": "7e02d9ee",
   "metadata": {},
   "outputs": [],
   "source": []
  }
 ],
 "metadata": {
  "kernelspec": {
   "display_name": "Python [conda env:ox] *",
   "language": "python",
   "name": "conda-env-ox-py"
  },
  "language_info": {
   "codemirror_mode": {
    "name": "ipython",
    "version": 3
   },
   "file_extension": ".py",
   "mimetype": "text/x-python",
   "name": "python",
   "nbconvert_exporter": "python",
   "pygments_lexer": "ipython3",
   "version": "3.9.7"
  }
 },
 "nbformat": 4,
 "nbformat_minor": 5
}
