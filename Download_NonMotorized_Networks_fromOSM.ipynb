{
 "cells": [
  {
   "cell_type": "markdown",
   "id": "9a5e39ff",
   "metadata": {},
   "source": [
    "# Creating Bike and Pedestrian Road Links\n",
    "\n",
    "For environment see: https://github.com/gboeing/osmnx \n",
    "\n",
    "    conda config --prepend channels conda-forge\n",
    "    \n",
    "    conda create -n ox --strict-channel-priority osmnx\n",
    "    \n",
    "* also include nb_conda, nb_conda_kernels, and ipykernel"
   ]
  },
  {
   "cell_type": "code",
   "execution_count": 1,
   "id": "1bfa1f91",
   "metadata": {},
   "outputs": [],
   "source": [
    "import geopandas as gpd\n",
    "import osmnx\n",
    "import pandas as pd\n",
    "import networkx as nx"
   ]
  },
  {
   "cell_type": "code",
   "execution_count": 5,
   "id": "cdd0f096",
   "metadata": {},
   "outputs": [],
   "source": [
    "#import TAZs\n",
    "tazs = gpd.read_file('C:/Users/phoebe/Bike_Ped_Skims_OSM/candidate_CTPS_TAZ_STATEWIDE_2019.geojson')\n",
    "#set the projected crs\n",
    "tazs = tazs.to_crs('EPSG:26986')\n",
    "#boundaries for TAZ\n",
    "states = tazs.dissolve()\n",
    "\n",
    "#update the attributes retrieved from OSM in settings.py\n",
    "useful_tags_path = ['bridge', 'tunnel', 'oneway', 'lanes', 'ref', 'name',\n",
    "                    'highway', 'maxspeed', 'service', 'access', 'area',\n",
    "                    'landuse', 'width', 'est_width', 'junction', \n",
    "                    'surface', 'smoothness','cycleway', 'footway', 'sidewalk']\n",
    "osmnx.utils.config(useful_tags_way = useful_tags_path)\n",
    "\n",
    "utn = osmnx.settings.useful_tags_node\n",
    "oxna = osmnx.settings.osm_xml_node_attrs\n",
    "oxnt = osmnx.settings.osm_xml_node_tags\n",
    "utw = osmnx.settings.useful_tags_way\n",
    "oxwa = osmnx.settings.osm_xml_way_attrs\n",
    "oxwt = osmnx.settings.osm_xml_way_tags\n",
    "utn = list(set(utn + oxna + oxnt))\n",
    "utw = list(set(utw + oxwa + oxwt))\n",
    "osmnx.config(all_oneway=True, useful_tags_node=utn, useful_tags_way=utw)\n",
    "\n",
    "#grab from OSM the bike and pedestrian networks for the MPO\n",
    "#WARNING: Takes 48 hours to run (for both bike and ped together)\n",
    "bike_net = osmnx.graph_from_polygon(states.to_crs('EPSG:4326').unary_union, network_type='bike')\n",
    "ped_net = osmnx.graph_from_polygon(states.to_crs('EPSG:4326').unary_union, network_type='walk')\n"
   ]
  },
  {
   "cell_type": "code",
   "execution_count": null,
   "id": "35c15f06",
   "metadata": {},
   "outputs": [],
   "source": [
    "#update the attributes retrieved from OSM in settings.py\n",
    "useful_tags_path = ['bridge', 'tunnel', 'oneway', 'lanes', 'ref', 'name',\n",
    "                    'highway', 'maxspeed', 'service', 'access', 'area',\n",
    "                    'landuse', 'width', 'est_width', 'junction', \n",
    "                    'surface', 'smoothness','cycleway', 'footway', 'sidewalk']\n",
    "osmnx.utils.config(useful_tags_way = useful_tags_path)\n",
    "\n",
    "utn = osmnx.settings.useful_tags_node\n",
    "oxna = osmnx.settings.osm_xml_node_attrs\n",
    "oxnt = osmnx.settings.osm_xml_node_tags\n",
    "utw = osmnx.settings.useful_tags_way\n",
    "oxwa = osmnx.settings.osm_xml_way_attrs\n",
    "oxwt = osmnx.settings.osm_xml_way_tags\n",
    "utn = list(set(utn + oxna + oxnt))\n",
    "utw = list(set(utw + oxwa + oxwt))\n",
    "osmnx.config(all_oneway=True, useful_tags_node=utn, useful_tags_way=utw)\n",
    "\n",
    "#grab from OSM the bike and pedestrian networks for the MPO\n",
    "#WARNING: Takes 48 hours to run (for both bike and ped together)\n",
    "place = ['Massachusetts', 'Rhode Island', 'New Hampshire']\n",
    "bike_net = osmnx.graph_from_place(place, network_type='bike')\n",
    "ped_net = osmnx.graph_from_place(place, network_type='walk')\n"
   ]
  },
  {
   "cell_type": "code",
   "execution_count": null,
   "id": "61732a4a",
   "metadata": {},
   "outputs": [],
   "source": [
    "osmnx.io.save_graph_shapefile(bike_net, 'C:/Users/phoebe/Bike_Ped_Skims_OSM/Bike')"
   ]
  },
  {
   "cell_type": "code",
   "execution_count": null,
   "id": "e891d6ec",
   "metadata": {},
   "outputs": [],
   "source": [
    "osmnx.io.save_graph_shapefile(ped_net, 'C:/Users/phoebe/Bike_Ped_Skims_OSM/Ped')"
   ]
  },
  {
   "cell_type": "code",
   "execution_count": 8,
   "id": "f3ada69c",
   "metadata": {},
   "outputs": [
    {
     "data": {
      "text/html": [
       "<div>\n",
       "<style scoped>\n",
       "    .dataframe tbody tr th:only-of-type {\n",
       "        vertical-align: middle;\n",
       "    }\n",
       "\n",
       "    .dataframe tbody tr th {\n",
       "        vertical-align: top;\n",
       "    }\n",
       "\n",
       "    .dataframe thead th {\n",
       "        text-align: right;\n",
       "    }\n",
       "</style>\n",
       "<table border=\"1\" class=\"dataframe\">\n",
       "  <thead>\n",
       "    <tr style=\"text-align: right;\">\n",
       "      <th></th>\n",
       "      <th>geometry</th>\n",
       "      <th>town</th>\n",
       "      <th>OBJECTID</th>\n",
       "      <th>mpo</th>\n",
       "      <th>taz</th>\n",
       "      <th>state</th>\n",
       "      <th>town_state</th>\n",
       "      <th>in_brmpo</th>\n",
       "      <th>Shape_Leng</th>\n",
       "      <th>type</th>\n",
       "      <th>id</th>\n",
       "      <th>subregion</th>\n",
       "    </tr>\n",
       "  </thead>\n",
       "  <tbody>\n",
       "    <tr>\n",
       "      <th>0</th>\n",
       "      <td>MULTIPOLYGON (((195473.042 769042.293, 195474....</td>\n",
       "      <td>MIDDLEBOROUGH</td>\n",
       "      <td>1</td>\n",
       "      <td>SRPEDD</td>\n",
       "      <td>0</td>\n",
       "      <td>MA</td>\n",
       "      <td>MIDDLEBOROUGH,MA</td>\n",
       "      <td>0</td>\n",
       "      <td>22284.463348</td>\n",
       "      <td>I</td>\n",
       "      <td>4398</td>\n",
       "      <td>SSC</td>\n",
       "    </tr>\n",
       "  </tbody>\n",
       "</table>\n",
       "</div>"
      ],
      "text/plain": [
       "                                            geometry           town  OBJECTID  \\\n",
       "0  MULTIPOLYGON (((195473.042 769042.293, 195474....  MIDDLEBOROUGH         1   \n",
       "\n",
       "      mpo  taz state        town_state  in_brmpo    Shape_Leng type    id  \\\n",
       "0  SRPEDD    0    MA  MIDDLEBOROUGH,MA         0  22284.463348    I  4398   \n",
       "\n",
       "  subregion  \n",
       "0       SSC  "
      ]
     },
     "execution_count": 8,
     "metadata": {},
     "output_type": "execute_result"
    }
   ],
   "source": [
    "states"
   ]
  },
  {
   "cell_type": "code",
   "execution_count": null,
   "id": "7167e614",
   "metadata": {},
   "outputs": [],
   "source": []
  }
 ],
 "metadata": {
  "kernelspec": {
   "display_name": "Python [conda env:ox] *",
   "language": "python",
   "name": "conda-env-ox-py"
  },
  "language_info": {
   "codemirror_mode": {
    "name": "ipython",
    "version": 3
   },
   "file_extension": ".py",
   "mimetype": "text/x-python",
   "name": "python",
   "nbconvert_exporter": "python",
   "pygments_lexer": "ipython3",
   "version": "3.9.7"
  }
 },
 "nbformat": 4,
 "nbformat_minor": 5
}
