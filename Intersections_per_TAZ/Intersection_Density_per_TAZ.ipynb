{
 "cells": [
  {
   "cell_type": "code",
   "execution_count": 1,
   "id": "266d8e80",
   "metadata": {},
   "outputs": [],
   "source": [
    "import geopandas as gpd\n",
    "import plotly\n",
    "import matplotlib\n",
    "import pandas as pd"
   ]
  },
  {
   "cell_type": "code",
   "execution_count": 2,
   "id": "973eaef2",
   "metadata": {},
   "outputs": [],
   "source": [
    "tazs = gpd.read_file('G:\\Data_Resources\\modx\\canonical_TAZ_shapefile\\candidate_CTPS_TAZ_STATEWIDE_2019.shp')\n",
    "bike_nodes = gpd.read_file('E:\\Shared drives\\TMD_TSA\\Data\\\\Non_Motorized_Networks\\Bike\\Shapefiles_to_DBD\\\\nodes.shp')\n",
    "ped_nodes = gpd.read_file('E:\\Shared drives\\TMD_TSA\\Data\\\\Non_Motorized_Networks\\Ped\\Shapefiles_to_DBD\\\\nodes.shp')"
   ]
  },
  {
   "cell_type": "code",
   "execution_count": 3,
   "id": "4d145c02",
   "metadata": {},
   "outputs": [],
   "source": [
    "#make sure everything is in the projected crs\n",
    "tazs = tazs.to_crs(26986)\n",
    "bike_nodes = bike_nodes.to_crs(26986)\n",
    "ped_nodes = ped_nodes.to_crs(26986)"
   ]
  },
  {
   "cell_type": "code",
   "execution_count": 4,
   "id": "b64cb3df",
   "metadata": {},
   "outputs": [],
   "source": [
    "#buffer!\n",
    "tazs['geometry']=tazs.buffer(100)\n"
   ]
  },
  {
   "cell_type": "code",
   "execution_count": 5,
   "id": "803247d1",
   "metadata": {},
   "outputs": [],
   "source": [
    "#filter bike nodes so only get where multiple streets cross\n",
    "bike_intersections = bike_nodes[bike_nodes['street_cou']>1]\n",
    "ped_intersections = ped_nodes[ped_nodes['street_cou']>1]"
   ]
  },
  {
   "cell_type": "code",
   "execution_count": 6,
   "id": "0390ddc9",
   "metadata": {},
   "outputs": [],
   "source": [
    "#get counts of points in each polygon (buffered tazs)\n",
    "spjoin_bike = gpd.sjoin(tazs, bike_intersections)\n",
    "spjoin_ped = gpd.sjoin(tazs, ped_intersections)"
   ]
  },
  {
   "cell_type": "code",
   "execution_count": 7,
   "id": "822057db",
   "metadata": {},
   "outputs": [],
   "source": [
    "#get count of points per polygon\n",
    "pperp_bike = spjoin_bike.groupby(['taz']).count().reset_index()\n",
    "pperp_ped = spjoin_ped.groupby(['taz']).count().reset_index()"
   ]
  },
  {
   "cell_type": "code",
   "execution_count": 8,
   "id": "d0fdc424",
   "metadata": {},
   "outputs": [],
   "source": [
    "#get a count - but has to be a column that has been 100% filled in the original data\n",
    "pperp_bike['intersection_count'] =  pperp_bike['OBJECTID']\n",
    "taz_ints_bike = pperp_bike[['taz','intersection_count']]\n",
    "\n",
    "pperp_ped['intersection_count'] =  pperp_ped['OBJECTID']\n",
    "taz_ints_ped = pperp_ped[['taz','intersection_count']]"
   ]
  },
  {
   "cell_type": "code",
   "execution_count": 9,
   "id": "f8a08e30",
   "metadata": {},
   "outputs": [],
   "source": [
    "#get square miles\n",
    "tazs['Area_SqMi'] =  tazs['Shape_Area']*0.00000038610"
   ]
  },
  {
   "cell_type": "code",
   "execution_count": 10,
   "id": "bf4308ca",
   "metadata": {},
   "outputs": [],
   "source": [
    "#get density\n",
    "taz_area = tazs[['taz','Area_SqMi']]\n",
    "taz_den_bike = taz_ints_bike.merge(taz_area, how = 'outer', on='taz')\n",
    "taz_den_ped = taz_ints_ped.merge(taz_area, how = 'outer', on='taz')"
   ]
  },
  {
   "cell_type": "code",
   "execution_count": 11,
   "id": "2a62211a",
   "metadata": {},
   "outputs": [],
   "source": [
    "taz_den_bike['intersection_density'] = taz_den_bike['intersection_count']/taz_den_bike['Area_SqMi']\n",
    "taz_den_ped['intersection_density'] = taz_den_ped['intersection_count']/taz_den_ped['Area_SqMi']"
   ]
  },
  {
   "cell_type": "code",
   "execution_count": 12,
   "id": "4d47fb36",
   "metadata": {},
   "outputs": [],
   "source": [
    "taz_den_bike.to_csv('E:\\Shared drives\\TMD_TSA\\Data\\\\Non_Motorized_Networks\\Intersections_per_TAZ\\\\bike_intersection_density.csv')\n",
    "taz_den_ped.to_csv('E:\\Shared drives\\TMD_TSA\\Data\\\\Non_Motorized_Networks\\Intersections_per_TAZ\\ped_intersection_density.csv')"
   ]
  },
  {
   "cell_type": "code",
   "execution_count": 13,
   "id": "54386fd9",
   "metadata": {},
   "outputs": [],
   "source": [
    "taz_ints_bike.to_csv('E:\\Shared drives\\TMD_TSA\\Data\\\\Non_Motorized_Networks\\Intersections_per_TAZ\\\\bike_intersections_per_buffered_taz.csv')\n",
    "taz_ints_ped.to_csv('E:\\Shared drives\\TMD_TSA\\Data\\\\Non_Motorized_Networks\\Intersections_per_TAZ\\ped_intersections_per_buffered_taz.csv')"
   ]
  },
  {
   "cell_type": "code",
   "execution_count": null,
   "id": "78f577be",
   "metadata": {},
   "outputs": [],
   "source": []
  }
 ],
 "metadata": {
  "kernelspec": {
   "display_name": "Python [conda env:base_py_37_plotly]",
   "language": "python",
   "name": "conda-env-base_py_37_plotly-py"
  },
  "language_info": {
   "codemirror_mode": {
    "name": "ipython",
    "version": 3
   },
   "file_extension": ".py",
   "mimetype": "text/x-python",
   "name": "python",
   "nbconvert_exporter": "python",
   "pygments_lexer": "ipython3",
   "version": "3.7.10"
  }
 },
 "nbformat": 4,
 "nbformat_minor": 5
}
