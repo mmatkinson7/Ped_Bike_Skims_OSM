{
 "cells": [
  {
   "cell_type": "code",
   "execution_count": 1,
   "id": "497f6a21",
   "metadata": {},
   "outputs": [],
   "source": [
    "import geopandas as gpd\n",
    "import plotly\n",
    "import matplotlib\n",
    "import pandas as pd\n",
    "import numpy as np"
   ]
  },
  {
   "cell_type": "code",
   "execution_count": 2,
   "id": "91c80419",
   "metadata": {},
   "outputs": [],
   "source": [
    "tazs = gpd.read_file('C:\\\\Users\\phoebe.AD\\Downloads\\IntersectionDensity\\\\TAZs_NAD83.shp') #no water\n",
    "\n",
    "edges = gpd.read_file('C:\\\\Users\\phoebe.AD\\Downloads\\IntersectionDensity\\edges.shp')\n",
    "\n",
    "nodes = gpd.read_file('C:\\\\Users\\phoebe.AD\\Downloads\\IntersectionDensity\\\\nodes.shp')"
   ]
  },
  {
   "cell_type": "code",
   "execution_count": 3,
   "id": "77b65b64",
   "metadata": {},
   "outputs": [],
   "source": [
    "tazs = tazs.to_crs(26986)\n",
    "edges = edges.to_crs(26986)\n",
    "nodes = nodes.to_crs(26986)"
   ]
  },
  {
   "cell_type": "code",
   "execution_count": 4,
   "id": "16504c2b",
   "metadata": {},
   "outputs": [],
   "source": [
    "nos_edges = edges[~edges['highway'].str.contains('service')]"
   ]
  },
  {
   "cell_type": "code",
   "execution_count": 14,
   "id": "671386de",
   "metadata": {},
   "outputs": [],
   "source": [
    "sub_nodes = nodes[(nodes['osmid'].isin(nos_edges['u']) | nodes['osmid'].isin(nos_edges['u'])) & (nodes['street_cou'] > 2)]"
   ]
  },
  {
   "cell_type": "code",
   "execution_count": 15,
   "id": "dfab9352",
   "metadata": {},
   "outputs": [],
   "source": [
    "#buffer!\n",
    "tazs['geometry']=tazs.buffer(100)"
   ]
  },
  {
   "cell_type": "code",
   "execution_count": 16,
   "id": "9d84723d",
   "metadata": {},
   "outputs": [],
   "source": [
    "#get counts of points in each polygon (buffered tazs)\n",
    "spjoin = gpd.sjoin(tazs, sub_nodes)"
   ]
  },
  {
   "cell_type": "code",
   "execution_count": 17,
   "id": "79ee62dd",
   "metadata": {},
   "outputs": [],
   "source": [
    "#get count of points per polygon\n",
    "pperp_ped = spjoin.groupby(['id']).count().reset_index()"
   ]
  },
  {
   "cell_type": "code",
   "execution_count": 18,
   "id": "2694bd31",
   "metadata": {},
   "outputs": [],
   "source": [
    "#get a count - but has to be a column that has been 100% filled in the original data\n",
    "pperp_ped['intersection_count'] =  pperp_ped['OBJECTID']\n",
    "taz_ints_ped = pperp_ped[['id','intersection_count']]"
   ]
  },
  {
   "cell_type": "code",
   "execution_count": 25,
   "id": "43c9c482",
   "metadata": {},
   "outputs": [],
   "source": [
    "#get square miles\n",
    "tazs[\"area\"] = tazs.area\n",
    "tazs['Area_SqMi'] =  tazs['area']*0.00000038610"
   ]
  },
  {
   "cell_type": "code",
   "execution_count": 26,
   "id": "57ff8f60",
   "metadata": {},
   "outputs": [],
   "source": [
    "#get density\n",
    "taz_area = tazs[['id','Area_SqMi']]\n",
    "taz_den_ped = taz_ints_ped.merge(taz_area, how = 'outer', on='id')"
   ]
  },
  {
   "cell_type": "code",
   "execution_count": 27,
   "id": "19957ba1",
   "metadata": {},
   "outputs": [],
   "source": [
    "taz_den_ped['intersection_density'] = taz_den_ped['intersection_count']/taz_den_ped['Area_SqMi']"
   ]
  },
  {
   "cell_type": "code",
   "execution_count": 28,
   "id": "9509602a",
   "metadata": {},
   "outputs": [
    {
     "data": {
      "text/html": [
       "<div>\n",
       "<style scoped>\n",
       "    .dataframe tbody tr th:only-of-type {\n",
       "        vertical-align: middle;\n",
       "    }\n",
       "\n",
       "    .dataframe tbody tr th {\n",
       "        vertical-align: top;\n",
       "    }\n",
       "\n",
       "    .dataframe thead th {\n",
       "        text-align: right;\n",
       "    }\n",
       "</style>\n",
       "<table border=\"1\" class=\"dataframe\">\n",
       "  <thead>\n",
       "    <tr style=\"text-align: right;\">\n",
       "      <th></th>\n",
       "      <th>id</th>\n",
       "      <th>intersection_count</th>\n",
       "      <th>Area_SqMi</th>\n",
       "      <th>intersection_density</th>\n",
       "    </tr>\n",
       "  </thead>\n",
       "  <tbody>\n",
       "    <tr>\n",
       "      <th>0</th>\n",
       "      <td>1</td>\n",
       "      <td>255.0</td>\n",
       "      <td>0.257783</td>\n",
       "      <td>989.202791</td>\n",
       "    </tr>\n",
       "    <tr>\n",
       "      <th>1</th>\n",
       "      <td>2</td>\n",
       "      <td>248.0</td>\n",
       "      <td>0.149527</td>\n",
       "      <td>1658.568164</td>\n",
       "    </tr>\n",
       "    <tr>\n",
       "      <th>2</th>\n",
       "      <td>3</td>\n",
       "      <td>436.0</td>\n",
       "      <td>0.165858</td>\n",
       "      <td>2628.760887</td>\n",
       "    </tr>\n",
       "    <tr>\n",
       "      <th>3</th>\n",
       "      <td>4</td>\n",
       "      <td>340.0</td>\n",
       "      <td>0.190535</td>\n",
       "      <td>1784.449664</td>\n",
       "    </tr>\n",
       "    <tr>\n",
       "      <th>4</th>\n",
       "      <td>5</td>\n",
       "      <td>392.0</td>\n",
       "      <td>0.202938</td>\n",
       "      <td>1931.627485</td>\n",
       "    </tr>\n",
       "  </tbody>\n",
       "</table>\n",
       "</div>"
      ],
      "text/plain": [
       "   id  intersection_count  Area_SqMi  intersection_density\n",
       "0   1               255.0   0.257783            989.202791\n",
       "1   2               248.0   0.149527           1658.568164\n",
       "2   3               436.0   0.165858           2628.760887\n",
       "3   4               340.0   0.190535           1784.449664\n",
       "4   5               392.0   0.202938           1931.627485"
      ]
     },
     "execution_count": 28,
     "metadata": {},
     "output_type": "execute_result"
    }
   ],
   "source": [
    "taz_den_ped.head()"
   ]
  },
  {
   "cell_type": "code",
   "execution_count": 29,
   "id": "0c7f7e8e",
   "metadata": {},
   "outputs": [],
   "source": [
    "taz_den_ped.to_csv('J:\\Shared drives\\TMD_TSA\\Data\\\\Non_Motorized_Networks\\Intersections_per_TAZ\\ped_intersection_density_dec20.csv')"
   ]
  },
  {
   "cell_type": "code",
   "execution_count": null,
   "id": "2327b816",
   "metadata": {},
   "outputs": [],
   "source": []
  }
 ],
 "metadata": {
  "kernelspec": {
   "display_name": "Python [conda env:geop] *",
   "language": "python",
   "name": "conda-env-geop-py"
  },
  "language_info": {
   "codemirror_mode": {
    "name": "ipython",
    "version": 3
   },
   "file_extension": ".py",
   "mimetype": "text/x-python",
   "name": "python",
   "nbconvert_exporter": "python",
   "pygments_lexer": "ipython3",
   "version": "3.7.11"
  }
 },
 "nbformat": 4,
 "nbformat_minor": 5
}
